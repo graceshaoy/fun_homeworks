{
 "cells": [
  {
   "cell_type": "code",
   "execution_count": 1,
   "id": "b1349bb3",
   "metadata": {},
   "outputs": [
    {
     "name": "stderr",
     "output_type": "stream",
     "text": [
      "C:\\Users\\grace\\anaconda3\\lib\\site-packages\\scipy\\__init__.py:146: UserWarning: A NumPy version >=1.16.5 and <1.23.0 is required for this version of SciPy (detected version 1.23.3\n",
      "  warnings.warn(f\"A NumPy version >={np_minversion} and <{np_maxversion}\"\n",
      "C:\\Users\\grace\\anaconda3\\lib\\site-packages\\statsmodels\\tsa\\base\\tsa_model.py:7: FutureWarning: pandas.Int64Index is deprecated and will be removed from pandas in a future version. Use pandas.Index with the appropriate dtype instead.\n",
      "  from pandas import (to_datetime, Int64Index, DatetimeIndex, Period,\n",
      "C:\\Users\\grace\\anaconda3\\lib\\site-packages\\statsmodels\\tsa\\base\\tsa_model.py:7: FutureWarning: pandas.Float64Index is deprecated and will be removed from pandas in a future version. Use pandas.Index with the appropriate dtype instead.\n",
      "  from pandas import (to_datetime, Int64Index, DatetimeIndex, Period,\n"
     ]
    }
   ],
   "source": [
    "import pandas as pd\n",
    "import numpy as np\n",
    "import numpy.linalg as la\n",
    "# import scipy.linalg as la\n",
    "import matplotlib as plot\n",
    "%matplotlib inline\n",
    "import matplotlib.pyplot as plt\n",
    "plt.style.use('fivethirtyeight')\n",
    "import altair as alt\n",
    "import seaborn as sns\n",
    "\n",
    "from sklearn.linear_model import LinearRegression as LR\n",
    "import statsmodels.api as sm\n",
    "\n",
    "import statsmodels.regression.linear_model as sm_lr\n",
    "import statsmodels.tools.eval_measures as sm_eval\n",
    "import sklearn.metrics as skm"
   ]
  },
  {
   "cell_type": "markdown",
   "id": "8d15deea",
   "metadata": {},
   "source": [
    "# Problem 1: cipher\n",
    "Recall the substitution cipher from class:\n",
    "'m it vbeh yjmbl... zftb.'\n",
    "Decrypt it using an MCMC as described in class. Since the decryption process is non-deterministic, run your code ⇠7 times, each time for 4000 steps. At least a couple of these should result in a substitution key that is close enough to the correct one to complete the decryption task manually and find the true key and the original text. Note: the bigram count from the Google Corpus Data is available on Canvas."
   ]
  },
  {
   "cell_type": "code",
   "execution_count": 70,
   "id": "ae4b643a",
   "metadata": {},
   "outputs": [],
   "source": [
    "def decode(msg,ky):\n",
    "    return ''.join([ky[letter] if letter in alphabet else letter for letter in msg])\n",
    "\n",
    "from collections import Counter\n",
    "def log_f(bgrm_df,msg):\n",
    "    msg = msg.lower()\n",
    "    for mark in [\",\",\".\",\";\",\"\"]:\n",
    "        msg = msg.replace(mark,\"\")\n",
    "    bigrams = Counter(map(''.join,zip(msg,msg[1:])))\n",
    "    msg_df = pd.DataFrame()\n",
    "    msg_df['bigram'] = bigrams.keys()\n",
    "    msg_df['count'] = bigrams.values()\n",
    "    msg_df = msg_df.set_index('bigram')\n",
    "    log_f_score = 0\n",
    "    \n",
    "    in_df = set(msg_df[msg_df.columns[0]])\n",
    "    for b in msg_df.index:\n",
    "        try:\n",
    "            log_f_score += np.log(bgrm_df.loc[b][0])*msg_df.loc[b][0]\n",
    "        except:\n",
    "            log_f_score += -7\n",
    "    return log_f_score"
   ]
  },
  {
   "cell_type": "code",
   "execution_count": 3,
   "id": "44016376",
   "metadata": {},
   "outputs": [],
   "source": [
    "message = 'm it vbeh yjmbl. qbl lgb tfwlgo iwn hbieo zftb, lgbh ziw lirbwflgmwx keft tb, lgbh ziw lirb wflgmwx tfeb. m it of iqfwb, iwnof umlgfjl gfdb lgil m ziw zfwkefwl lgbt umlgfjl kbie. lgb qmkb lgil giocfewb tb lgefjxg lgbob hbieo mo olmqq mw th giwno iwn th bhbo. ugblgbem givb ojcnjbn ml, m rwfu wfl. cjl of qfwx io ml mo lgbeb ml umqq obbrmlo fuw uih fjl, gbbnqboo fk lgb umqq lgil mo umlgmw tb. gb kbqqmw fzlfcbe wmwblbbw bmxglbbw fw i nih lgil uio of yjmbl iwn olmqqfw lgb ugfqb kefwl lgil lgb ieth ebdfel zfwkmwbn mlobqk lf lgb omwxqbobwlbwzb iqq yjmbl fw lgb ubolbew kefwl. gb gin kiqqbw kfeuien iwn qihfw lgb bielg io lgfjxg oqbbdmwx. ljewmwx gmt fvbe fwb oiu lgil gb zfjqnwfl givb ojkkbebn qfwx; gmo kizb gin iw badeboomfw fk ziqt, io lgfjxgiqtfol xqin lgb bwn gin zftb.'\n",
    "bigram_df = pd.read_csv('bigrams.csv').set_index('bigram')\n",
    "bigram_df[' count'] = bigram_df[' count'] + 0.00001\n",
    "iterations = 4000\n",
    "runs = 7"
   ]
  },
  {
   "cell_type": "code",
   "execution_count": 82,
   "id": "c3a14bd8",
   "metadata": {},
   "outputs": [
    {
     "data": {
      "text/plain": [
       "3.9999999999999987"
      ]
     },
     "execution_count": 82,
     "metadata": {},
     "output_type": "execute_result"
    }
   ],
   "source": [
    "np.e**(np.log(8)-np.log(2))"
   ]
  },
  {
   "cell_type": "code",
   "execution_count": 83,
   "id": "36aa1ee0",
   "metadata": {},
   "outputs": [
    {
     "name": "stdout",
     "output_type": "stream",
     "text": [
      "8997.409883009463\n",
      "10373.551572037984\n",
      "10489.928675060508\n",
      "10592.313815499781\n",
      "10609.182851952603\n",
      "10640.367041341307\n",
      "10738.119387240959\n",
      "10738.119387240959\n",
      "10738.119387240959 {'a': 'x', 'b': 'e', 'c': 'b', 'd': 'p', 'e': 'r', 'f': 'o', 'g': 'h', 'h': 'y', 'i': 'a', 'j': 'u', 'k': 'f', 'l': 't', 'm': 'i', 'n': 'd', 'o': 's', 'p': 'z', 'q': 'l', 'r': 'k', 's': 'j', 't': 'm', 'u': 'w', 'v': 'v', 'w': 'n', 'x': 'g', 'y': 'q', 'z': 'c'}\n",
      "i am very quiet. let the months and years come, they can takenothing from me, they can take nothing more. i am so alone, andso without hope that i can confront them without fear. the life that hasborne me through these years is still in my hands and my eyes. whetheri have subdued it, i know not. but so long as it is there it will seekits own way out, heedless of the will that is within me. he fellin october nineteen eighteen on a day that was so quiet and stillon the whole front that the army report confined itself to the singlesentence all quiet on the western front. he had fallen forward and layon the earth as though sleeping. turning him over one saw that he couldnot have suffered long; his face had an expression of calm, as thoughalmost glad the end had come.\n",
      "8393.469185168982\n",
      "10278.783568337863\n",
      "10376.336546525448\n",
      "10376.708354310611\n",
      "10406.193857549983\n",
      "10443.565631774325\n",
      "10471.10362850916\n",
      "10479.245969749329\n",
      "10482.928766809611 {'a': 'x', 'b': 'e', 'c': 'b', 'd': 'f', 'e': 'c', 'f': 'o', 'g': 'n', 'h': 'v', 'i': 'a', 'j': 'u', 'k': 'm', 'l': 'i', 'm': 't', 'n': 'y', 'o': 's', 'p': 'j', 'q': 'l', 'r': 'p', 's': 'z', 't': 'd', 'u': 'h', 'v': 'k', 'w': 'r', 'x': 'g', 'y': 'q', 'z': 'w'}\n",
      "t ad kecv qutei. lei ine dorins ary veacs wode, inev war iaperointrg mcod de, inev war iape rointrg doce. t ad so alore, aryso htinoui nofe inai t war wormcori ined htinoui meac. ine ltme inai nasbocre de incougn inese veacs ts sitll tr dv narys ary dv eves. hneinect nake subyuey ti, t proh roi. bui so lorg as ti ts inece ti htll seeptis ohr hav oui, neeyless om ine htll inai ts htintr de. ne melltr owiobec rtreieer etgnieer or a yav inai has so qutei ary sitllor ine hnole mcori inai ine acdv cefoci wormtrey tiselm io ine strgleserierwe all qutei or ine hesiecr mcori. ne nay maller mochacy ary lavor ine eacin as inougn sleeftrg. iucrtrg ntd okec ore sah inai ne woulyroi nake summecey lorg; nts mawe nay ar exfcesstor om wald, as inougnaldosi glay ine ery nay wode.\n",
      "8512.841087015837\n",
      "10299.673037918083\n",
      "10450.161325697081\n",
      "10456.261676747494\n",
      "10456.261676747494\n",
      "10452.86048906103\n",
      "10494.774825211894\n",
      "10519.031108086469\n",
      "10518.219587660124 {'a': 'x', 'b': 'e', 'c': 'b', 'd': 'f', 'e': 't', 'f': 'o', 'g': 'd', 'h': 'p', 'i': 'a', 'j': 'u', 'k': 'c', 'l': 'n', 'm': 'i', 'n': 'y', 'o': 's', 'p': 'j', 'q': 'l', 'r': 'v', 's': 'z', 't': 'm', 'u': 'h', 'v': 'k', 'w': 'r', 'x': 'g', 'y': 'q', 'z': 'w'}\n",
      "i am ketp quien. len nde mornds ary peats wome, ndep war naverondirg ctom me, ndep war nave rondirg mote. i am so alore, aryso hindoun dofe ndan i war worctorn ndem hindoun ceat. nde lice ndan dasbotre me ndtougd ndese peats is snill ir mp darys ary mp epes. hdendeti dake subyuey in, i vroh ron. bun so lorg as in is ndete in hill seevins ohr hap oun, deeyless oc nde hill ndan is hindir me. de cellir ownobet rireneer eigdneer or a yap ndan has so quien ary snillor nde hdole ctorn ndan nde atmp tefotn worcirey inselc no nde sirglesernerwe all quien or nde hesnetr ctorn. de day caller cothaty ary lapor nde eatnd as ndougd sleefirg. nutrirg dim oket ore sah ndan de woulyron dake succetey lorg; dis cawe day ar exftessior oc walm, as ndougdalmosn glay nde ery day wome.\n",
      "8110.7929821624975\n",
      "10312.041365823821\n",
      "10377.179459979816\n",
      "10429.237443028842\n",
      "10459.555196082727\n",
      "10474.127376882749\n",
      "10478.564690238487\n",
      "10478.97781950185\n",
      "10624.270959751837 {'a': 'q', 'b': 'e', 'c': 'y', 'd': 'f', 'e': 'r', 'f': 'o', 'g': 'h', 'h': 'p', 'i': 'a', 'j': 'c', 'k': 'g', 'l': 't', 'm': 'i', 'n': 'd', 'o': 's', 'p': 'j', 'q': 'l', 'r': 'b', 's': 'z', 't': 'm', 'u': 'k', 'v': 'v', 'w': 'n', 'x': 'u', 'y': 'x', 'z': 'w'}\n",
      "i am verp xciet. let the months and pears wome, thep wan tabenothinu grom me, thep wan tabe nothinu more. i am so alone, andso kithoct hofe that i wan wongront them kithoct gear. the lige that hasyorne me throcuh these pears is still in mp hands and mp epes. khetheri have scydced it, i bnok not. yct so lonu as it is there it kill seebits okn kap oct, heedless og the kill that is kithin me. he gellin owtoyer nineteen eiuhteen on a dap that kas so xciet and stillon the khole gront that the armp refort wongined itselg to the sinulesentenwe all xciet on the kestern gront. he had gallen gorkard and lapon the earth as thocuh sleefinu. tcrninu him over one sak that he wocldnot have scggered lonu; his gawe had an eqfression og walm, as thocuhalmost ulad the end had wome.\n",
      "8783.744402341868\n",
      "10373.449048205577\n",
      "10532.045877051632\n",
      "10598.839579171496\n",
      "10720.64339555973\n",
      "10720.64339555973\n",
      "10729.629197033417\n",
      "10738.119387240959\n",
      "10738.119387240959 {'a': 'x', 'b': 'e', 'c': 'b', 'd': 'p', 'e': 'r', 'f': 'o', 'g': 'h', 'h': 'y', 'i': 'a', 'j': 'u', 'k': 'f', 'l': 't', 'm': 'i', 'n': 'd', 'o': 's', 'p': 'j', 'q': 'l', 'r': 'k', 's': 'z', 't': 'm', 'u': 'w', 'v': 'v', 'w': 'n', 'x': 'g', 'y': 'q', 'z': 'c'}\n",
      "i am very quiet. let the months and years come, they can takenothing from me, they can take nothing more. i am so alone, andso without hope that i can confront them without fear. the life that hasborne me through these years is still in my hands and my eyes. whetheri have subdued it, i know not. but so long as it is there it will seekits own way out, heedless of the will that is within me. he fellin october nineteen eighteen on a day that was so quiet and stillon the whole front that the army report confined itself to the singlesentence all quiet on the western front. he had fallen forward and layon the earth as though sleeping. turning him over one saw that he couldnot have suffered long; his face had an expression of calm, as thoughalmost glad the end had come.\n",
      "8596.259142247456\n",
      "10263.587235981668\n",
      "10430.586104468222\n",
      "10501.696328514605\n",
      "10528.349574652753\n",
      "10533.453416118671\n",
      "10556.564804115675\n",
      "10566.793870924406\n",
      "10590.414541101265 {'a': 'x', 'b': 'e', 'c': 'p', 'd': 'v', 'e': 'r', 'f': 'o', 'g': 't', 'h': 'y', 'i': 'a', 'j': 'u', 'k': 'f', 'l': 's', 'm': 'i', 'n': 'g', 'o': 'm', 'p': 'z', 'q': 'l', 'r': 'k', 's': 'j', 't': 'd', 'u': 'w', 'v': 'b', 'w': 'n', 'x': 'c', 'y': 'q', 'z': 'h'}\n",
      "i ad bery quies. les ste donstm ang yearm hode, stey han sakenostinc frod de, stey han sake nostinc dore. i ad mo alone, angmo wistous tove stas i han honfrons sted wistous fear. ste life stas tamporne de strouct steme yearm im msill in dy tangm ang dy eyem. wtesteri tabe mupgueg is, i know nos. pus mo lonc am is im stere is will meekism own way ous, teeglemm of ste will stas im wistin de. te fellin ohsoper nineseen eictseen on a gay stas wam mo quies ang msillon ste wtole frons stas ste ardy revors honfineg ismelf so ste minclemensenhe all quies on ste wemsern frons. te tag fallen forwarg ang layon ste earst am stouct mleevinc. surninc tid ober one maw stas te houlgnos tabe muffereg lonc; tim fahe tag an exvremmion of hald, am stouctaldoms clag ste eng tag hode.\n",
      "7852.06594249642\n",
      "10380.454389758108\n",
      "10399.720581554478\n",
      "10401.596039287451\n",
      "10574.097220795255\n",
      "10584.9720997852\n",
      "10637.11198096483\n",
      "10640.427577122582\n",
      "10650.484351665957 {'a': 'x', 'b': 'e', 'c': 'w', 'd': 'p', 'e': 'r', 'f': 'i', 'g': 'h', 'h': 'y', 'i': 'a', 'j': 'o', 'k': 'f', 'l': 't', 'm': 'u', 'n': 'd', 'o': 's', 'p': 'z', 'q': 'l', 'r': 'b', 's': 'q', 't': 'm', 'u': 'c', 'v': 'k', 'w': 'n', 'x': 'g', 'y': 'j', 'z': 'v'}\n",
      "u am kery jouet. let the minths and years vime, they van tabenithung frim me, they van tabe nithung mire. u am si aline, andsi cuthiot hipe that u van vinfrint them cuthiot fear. the lufe that haswirne me thriogh these years us stull un my hands and my eyes. chetheru hake sowdoed ut, u bnic nit. wot si ling as ut us there ut cull seebuts icn cay iot, heedless if the cull that us cuthun me. he fellun ivtiwer nuneteen eughteen in a day that cas si jouet and stullin the chile frint that the army repirt vinfuned utself ti the sunglesentenve all jouet in the cestern frint. he had fallen fircard and layin the earth as thiogh sleepung. tornung hum iker ine sac that he violdnit hake soffered ling; hus fave had an expressuin if valm, as thioghalmist glad the end had vime.\n"
     ]
    }
   ],
   "source": [
    "for r in range(runs):\n",
    "    ### generate random key\n",
    "    key = {}\n",
    "    alphabet = \"abcdefghijklmnopqrstuvwxyz\"\n",
    "    alpha2 = alphabet\n",
    "    for letter in alphabet:\n",
    "        letter2 = alpha2[np.random.randint(0,len(alpha2))]\n",
    "        key[letter] = letter2\n",
    "        alpha2 = alpha2.replace(letter2,\"\")\n",
    "    score = 0\n",
    "    avg = [] #\n",
    "    for n in range(iterations):\n",
    "        ### swapping two random letters\n",
    "        new_key = key.copy()\n",
    "        a1, a2 = alphabet[np.random.randint(0,len(alphabet))], alphabet[np.random.randint(0,len(alphabet))]\n",
    "        new_key[a1], new_key[a2] = key[a2], key[a1]\n",
    "\n",
    "        ### scoring\n",
    "        decoded, new_decoded = decode(message, key), decode(message, new_key)\n",
    "        score, new_score = log_f(bigram_df, decoded), log_f(bigram_df, new_decoded)\n",
    "\n",
    "        ## deciding to keep key\n",
    "        if new_score > score:\n",
    "            key = new_key\n",
    "        else:\n",
    "            p = np.e**(new_score - score)\n",
    "            if np.random.rand() < p:\n",
    "                key = new_key\n",
    "        if n%500 == 0:\n",
    "            print(score)\n",
    "    print(score, key)\n",
    "    print(decode(message, key))"
   ]
  },
  {
   "cell_type": "code",
   "execution_count": null,
   "id": "c044d51c",
   "metadata": {},
   "outputs": [],
   "source": [
    "np.log(10)"
   ]
  },
  {
   "cell_type": "markdown",
   "id": "f0395060",
   "metadata": {},
   "source": [
    "# Problem 2: Knapsack\n",
    "Solve (approximately) the knapsack problem with values =[99, 26, 71, 8, 28, 54, 5, 40, 100, 91, 27, 16, 78, 20, 97, 18, 63,\n",
    "24, 1, 71], weights =[19, 17, 86, 52, 34, 58, 35, 96, 14, 92, 56, 51, 92, 70, 20, 83, 20, 18, 14, 25], max weight =200, =0.0005, and =0.0005 (i.e., increase by every 500 steps). The number of iterations per run should be 100,000 and since the solution is not deterministic run the code 10 times. Total values >400 are achievable — try to find such a choice."
   ]
  },
  {
   "cell_type": "code",
   "execution_count": 106,
   "id": "97d5f964",
   "metadata": {},
   "outputs": [],
   "source": [
    "values = [99,26,71,8,28,54,5,49,100,91,27,16,78,20,97,18,63,24,1,71]\n",
    "weights = [19,17,86,52,34,58,35,96,14,92,56,51,92,70,20,83,20,18,14,25]\n",
    "max_weight = 200\n",
    "beta = 0.0005\n",
    "delta = 0.0005\n",
    "runs = 10\n",
    "iters = 100000"
   ]
  },
  {
   "cell_type": "code",
   "execution_count": 107,
   "id": "496b7ff2",
   "metadata": {},
   "outputs": [],
   "source": [
    "items = pd.DataFrame()\n",
    "items['values'], items['weights'] = values, weights"
   ]
  },
  {
   "cell_type": "code",
   "execution_count": 108,
   "id": "ae33648f",
   "metadata": {},
   "outputs": [],
   "source": [
    "run_choices = []\n",
    "run_value = []\n",
    "for r in range(runs):\n",
    "    weight = 201\n",
    "    while weight > max_weight: ### generate valid random choice of items\n",
    "        items['choice'] = np.random.randint(0,2,len(items))\n",
    "        boltz = (np.e)**(beta*sum(items['choice']*items['values']))\n",
    "        weight = sum(items['weights']*items['choice'])\n",
    "    weight = 201\n",
    "    for n in range(iters):\n",
    "        new_choice = items['choice']\n",
    "        while weight > max_weight: ### pick random index to toggle that is still valid\n",
    "            i = np.random.randint(0,len(items)+1)\n",
    "            new_choice[i] == (new_choice[i])*(-1)+1\n",
    "            weight = sum(items['weights']*items['choice'])\n",
    "        boltz_new = (np.e)**(beta*sum(items['choice']*items['values']))\n",
    "\n",
    "        if boltz_new > boltz: ### accept / reject\n",
    "            items['choice'] = new_choice\n",
    "        else:\n",
    "            if np.random.rand() > boltz_new / boltz:\n",
    "                items['choice'] = new_choice\n",
    "        if n%500==0:\n",
    "            beta += delta\n",
    "    run_choices.append(items['choice'])\n",
    "    run_value.append(sum(items['values']*items['choice']))"
   ]
  },
  {
   "cell_type": "code",
   "execution_count": 109,
   "id": "41de98fa",
   "metadata": {},
   "outputs": [
    {
     "data": {
      "text/plain": [
       "464"
      ]
     },
     "execution_count": 109,
     "metadata": {},
     "output_type": "execute_result"
    }
   ],
   "source": [
    "max(run_value)"
   ]
  },
  {
   "cell_type": "code",
   "execution_count": 113,
   "id": "0df092e4",
   "metadata": {
    "scrolled": true
   },
   "outputs": [
    {
     "data": {
      "text/plain": [
       "array([1, 0, 0, 0, 1, 0, 1, 0, 1, 0, 0, 0, 0, 0, 1, 0, 1, 0, 1, 1])"
      ]
     },
     "execution_count": 113,
     "metadata": {},
     "output_type": "execute_result"
    }
   ],
   "source": [
    "run_choices[np.argmax(run_value)].values"
   ]
  },
  {
   "cell_type": "markdown",
   "id": "9ec9e822",
   "metadata": {},
   "source": [
    "# Problem 3\n",
    "Use the reference trigram count in American first names (available on Canvas) and similar logic to the substitution code decryption to implement an MCMC that generates 5or 6letter ’name-like’ strings."
   ]
  },
  {
   "cell_type": "code",
   "execution_count": 87,
   "id": "ccbbca5d",
   "metadata": {},
   "outputs": [],
   "source": [
    "name_bigrams = pd.read_csv('names_bigrams.csv').set_index('Unnamed: 0')"
   ]
  },
  {
   "cell_type": "code",
   "execution_count": 78,
   "id": "3a9f2b3b",
   "metadata": {},
   "outputs": [],
   "source": [
    "from collections import Counter\n",
    "def log_f(bgrm_df,msg):\n",
    "    msg = msg.lower()\n",
    "    for mark in [\",\",\".\",\";\",\"\"]:\n",
    "        msg = msg.replace(mark,\"\")\n",
    "    bigrams = Counter(map(''.join,zip(msg,msg[1:])))\n",
    "    msg_df = pd.DataFrame()\n",
    "    msg_df['bigram'] = bigrams.keys()\n",
    "    msg_df['count'] = bigrams.values()\n",
    "    msg_df = msg_df.set_index('bigram')\n",
    "    log_f_score = 0\n",
    "    \n",
    "    in_df = set(msg_df[msg_df.columns[0]])\n",
    "    for b in msg_df.index:\n",
    "        try:\n",
    "            log_f_score += np.log(bgrm_df.loc[b][0])*msg_df.loc[b][0]\n",
    "        except:\n",
    "            log_f_score += -7\n",
    "    return log_f_score"
   ]
  },
  {
   "cell_type": "code",
   "execution_count": 88,
   "id": "9c46d5c1",
   "metadata": {},
   "outputs": [
    {
     "name": "stdout",
     "output_type": "stream",
     "text": [
      "final: ananel 38.46736422364021\n",
      "final: ellel 29.213595099287367\n",
      "final: hanan 31.305993403776423\n",
      "final: ariana 38.06453684430104\n",
      "final: risha 29.983477269062018\n"
     ]
    }
   ],
   "source": [
    "iters = 1000\n",
    "runs = 5\n",
    "for r in range(runs):\n",
    "    name = ''\n",
    "    for i in range(np.random.randint(5,7)):\n",
    "        name += chr(np.random.randint(97, 123))\n",
    "    for n in range(iters):\n",
    "        score = log_f(name_bigrams, name) ### score org name\n",
    "\n",
    "        new_name = name ### make new name\n",
    "        slice_here = np.random.randint(0,len(name))\n",
    "        new_name = name[0:slice_here] \\\n",
    "            + chr(np.random.randint(97, 123)) \\\n",
    "            + name[1+slice_here:]\n",
    "\n",
    "        new_score = log_f(name_bigrams, new_name) ### score new name\n",
    "#         print(name, score)\n",
    "#         print(new_name, new_score)\n",
    "#         print(\"---\")\n",
    "        if new_score > score: ### compare scores\n",
    "            name = new_name\n",
    "        else:\n",
    "            if np.random.rand() < new_score - score:\n",
    "                name = new_name\n",
    "    print(\"final:\",name, score)"
   ]
  },
  {
   "cell_type": "markdown",
   "id": "44c322a3",
   "metadata": {},
   "source": [
    "# Problem 4\n",
    "A mouse runs through a 5-room maze (below). Each time-step, the mouse moves to a di↵erent room. When in a room, it is equally likely to choose any of the doors leading out."
   ]
  },
  {
   "cell_type": "code",
   "execution_count": 162,
   "id": "2b21cc99",
   "metadata": {},
   "outputs": [
    {
     "data": {
      "text/plain": [
       "array([[0.        , 0.33333333, 0.25      , 0.33333333, 0.        ],\n",
       "       [0.33333333, 0.        , 0.25      , 0.        , 0.33333333],\n",
       "       [0.33333333, 0.33333333, 0.        , 0.33333333, 0.33333333],\n",
       "       [0.33333333, 0.        , 0.25      , 0.        , 0.33333333],\n",
       "       [0.        , 0.33333333, 0.25      , 0.33333333, 0.        ]])"
      ]
     },
     "execution_count": 162,
     "metadata": {},
     "output_type": "execute_result"
    }
   ],
   "source": [
    "p = np.vstack([[0,1/3,1/4,1/3,0],\n",
    "               [1/3,0,1/4,0,1/3],\n",
    "               [1/3,1/3,0,1/3,1/3],\n",
    "               [1/3,0,1/4,0,1/3],\n",
    "               [0,1/3,1/4,1/3,0]])"
   ]
  },
  {
   "cell_type": "code",
   "execution_count": 178,
   "id": "7fce0e30",
   "metadata": {},
   "outputs": [
    {
     "data": {
      "text/plain": [
       "array([0.1875, 0.1875, 0.25  , 0.1875, 0.1875])"
      ]
     },
     "execution_count": 178,
     "metadata": {},
     "output_type": "execute_result"
    }
   ],
   "source": [
    "steady = la.eig(p)[1][:,0]\n",
    "steady = steady / sum(steady)\n",
    "steady"
   ]
  },
  {
   "cell_type": "code",
   "execution_count": 213,
   "id": "03903db9",
   "metadata": {},
   "outputs": [],
   "source": [
    "steps = 100000\n",
    "position = np.random.randint(1,6)\n",
    "record = {1:0,2:0,3:0,4:0,5:0}\n",
    "at_3, at_5 = [],[]\n",
    "for s in range(steps):\n",
    "    record[position] += 1\n",
    "    if position == 3:\n",
    "        at_3.append(s)\n",
    "    if position == 5:\n",
    "        at_5.append(s)\n",
    "    position = int(np.random.choice([1,2,3,4,5],1,p=p[:,position-1]))"
   ]
  },
  {
   "cell_type": "code",
   "execution_count": 214,
   "id": "4fed1bb5",
   "metadata": {},
   "outputs": [
    {
     "data": {
      "text/plain": [
       "{1: 18635, 2: 18845, 3: 25142, 4: 18653, 5: 18725}"
      ]
     },
     "execution_count": 214,
     "metadata": {},
     "output_type": "execute_result"
    }
   ],
   "source": [
    "record"
   ]
  },
  {
   "cell_type": "code",
   "execution_count": 220,
   "id": "033ae084",
   "metadata": {},
   "outputs": [
    {
     "data": {
      "text/plain": [
       "(3.977407422139135, 5.339831232642598)"
      ]
     },
     "execution_count": 220,
     "metadata": {},
     "output_type": "execute_result"
    }
   ],
   "source": [
    "back_3 = [at_3[x+1] - at_3[x] for x in range(len(at_3)-1)]\n",
    "back_5 = [at_5[x+1] - at_5[x] for x in range(len(at_5)-1)]\n",
    "np.mean(back_3), np.mean(back_5)"
   ]
  }
 ],
 "metadata": {
  "kernelspec": {
   "display_name": "Python 3 (ipykernel)",
   "language": "python",
   "name": "python3"
  },
  "language_info": {
   "codemirror_mode": {
    "name": "ipython",
    "version": 3
   },
   "file_extension": ".py",
   "mimetype": "text/x-python",
   "name": "python",
   "nbconvert_exporter": "python",
   "pygments_lexer": "ipython3",
   "version": "3.9.7"
  }
 },
 "nbformat": 4,
 "nbformat_minor": 5
}
